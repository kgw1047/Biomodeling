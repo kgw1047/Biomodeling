{
 "cells": [
  {
   "cell_type": "markdown",
   "metadata": {},
   "source": [
    "# Graphene"
   ]
  },
  {
   "cell_type": "markdown",
   "metadata": {},
   "source": [
    "#### References\n",
    "- Kalra, A., Garde, S. & Hummer, G. Osmotic water transport through carbon nanotube membranes. Proc Natl Acad Sci U S A 100, 10175-10180 (2003). https://doi.org:10.1073/pnas.1633354100"
   ]
  },
  {
   "cell_type": "markdown",
   "metadata": {},
   "source": [
    "<img src=\"../img/graphene_ref.png\" width=300 />"
   ]
  },
  {
   "cell_type": "markdown",
   "metadata": {},
   "source": [
    "### Intro\n",
    "We will do 4_graphene.\n",
    "- Graphene is a promising material due to its interesting physical and chemical properties such as electrical conductivity and mechanical durability.\n",
    "- The classical MD simulations can handle the mechanics and chemistry of graphene.\n",
    "    - Definitely, electrical conductivity requires QM treatments.\n",
    "- A typical application of graphene is the nanopore instrument. \n",
    "    - For example, Ref 1 shows the application for osmosis (or desalination) using graphene (CNT to be precise).\n",
    "- In this tutorial, we will learn:\n",
    "    - How to prepare the MD simulation setup of graphene systems.\n",
    "    - How to calculate the ionic conductance through a nanopore."
   ]
  },
  {
   "cell_type": "markdown",
   "metadata": {},
   "source": [
    "### Hello, graphene!\n",
    "- As usual, we need a graphene version of\n",
    "    - Structure file (PDB)\n",
    "    - and, an ITP file including moleculetype matching the PDB file.\n",
    "- Because graphene is not officially included in conventional force fields, it is not so easy to prepare those.\n",
    "- To make the process convenient, we created a web server\n",
    "    - https://yoo.skku.edu/apps"
   ]
  },
  {
   "cell_type": "markdown",
   "metadata": {},
   "source": [
    "<img src=\"../img/graphene_hello.png\" width=500 />"
   ]
  },
  {
   "cell_type": "markdown",
   "metadata": {},
   "source": [
    "### Options – Dimension of graphene\n",
    "- zigzag side along the x axis\n",
    "- armchair side along the y axis."
   ]
  },
  {
   "cell_type": "markdown",
   "metadata": {},
   "source": [
    "<img src=\"../img/graphene_dim.png\" width=500 />"
   ]
  },
  {
   "cell_type": "markdown",
   "metadata": {},
   "source": [
    "### Options – Periodic boundary conditions\n",
    "\n",
    "- In many cases, we assume that the graphene sheet is very large.\n",
    "- To emulate such large graphene sheet using nm-scale box in MD, we can use PBC.\n",
    "- Exactly same logic as the lipid membranes."
   ]
  },
  {
   "cell_type": "markdown",
   "metadata": {},
   "source": [
    "<img src=\"../img/graphene_pbc.png\" width=500 />"
   ]
  },
  {
   "cell_type": "markdown",
   "metadata": {},
   "source": [
    "### Options – Hole\n",
    "\n",
    "- We can put a nanopre in the graphene to induce an ionic current through the graphene sheet."
   ]
  },
  {
   "cell_type": "markdown",
   "metadata": {},
   "source": [
    "<img src=\"../img/graphene_hole.png\" width=500 />"
   ]
  },
  {
   "cell_type": "markdown",
   "metadata": {},
   "source": [
    "### Options – Terminal groups\n",
    "\n",
    "- In most MD simulations of graphene, people use blunt-ended carbon atoms, which are chemically incorrect.\n",
    "- Carbon atoms at the edge should form chemical bonds with some oxygen or hydrogen atoms."
   ]
  },
  {
   "cell_type": "markdown",
   "metadata": {},
   "source": [
    "<img src=\"../img/graphene_terminal.png\" width=500 />"
   ]
  },
  {
   "cell_type": "markdown",
   "metadata": {},
   "source": [
    "### Perform MD\n",
    "\n",
    "- The web server gives you a package including most files necessary for MD.\n",
    "- Downloaded output from the web server includes:\n",
    "    - `amber99sb-ildn-phi-bsc0.ff`: force field files that will be included in `topol.top`\n",
    "    - `topol.top`: topology file in Gromacs format.\n",
    "    - `final.pdb`: the PDB file of generated graphene.\n",
    "    - `graphene.itp`: moleculetype matching `final.pdb`\n",
    "    - `graphene.posres.itp`: position restraints file if you want to fix graphene in space.\n",
    "    - `md.???`: output files from a short MD simulation on the server. `final.pdb` is the output of this MD run.\n",
    "- Load `final.pdb` to VMD and see how it looks like.\n",
    "    - See periodic images.\n",
    "    - If you chose PBC on the web server, than moleculetype definition will have covalent bonds between carbon atoms at the edges."
   ]
  },
  {
   "cell_type": "markdown",
   "metadata": {},
   "source": [
    "### Solvation\n",
    "- Confirm the box size in final.pdb. Adjust it using text editor as you like.\n",
    "    ```bash\n",
    "    CRYST1   48.854   50.777   69.904  90.00  90.00  90.00 P 1           1\n",
    "    ```\n",
    "- Note that if you are using PBC, you cannot modify the x and y dimensions.\n",
    "- Add water molecules using `gmx solvate`\n",
    "    - `gmx solvate -cp final.pdb -o conf.pdb -cs -p topol.top`\n",
    "        - `-cp`: Input PDB\n",
    "        - `-o`: Output PDB with water molecules.\n",
    "        - `-cs`: Just tells that you want to add water\n",
    "        - `-p`: The number of added water molecules will be specified at the end of `topol.top` file. \n",
    "- Generate tpr file to use as an input for `gmx genion`\n",
    "    - `gmx grompp -f mini.mdp -maxwarn 40 -c conf.pdb -r conf.pdb`\n",
    "- Add ions using `gmx genion`\n",
    "    - `gmx genion -conc 1 -s topol.tpr -o conf.pdb -p topol.top`\n",
    "        - `-conc`: the concentration of NaCl in M\n",
    "        - `-s`: input TPR file\n",
    "        - `-o`: output PDB\n",
    "        - `-p`: The number of added ions will be specified at the end of `topol.top` file."
   ]
  },
  {
   "cell_type": "markdown",
   "metadata": {},
   "source": [
    "<img src=\"../img/graphene_solvation.png\" width=300 />"
   ]
  },
  {
   "cell_type": "markdown",
   "metadata": {},
   "source": [
    "### Minimization\n",
    "\n",
    "- You can use mini.mdp downloaded from the web server.\n",
    "    - `gmx grompp -f mini.mdp -r conf.pdb -c conf.pdb -maxwarn 40`\n",
    "    - `gmx mdrun -c conf.pdb -nt 4`\n",
    "        - `-c`: output PDB"
   ]
  },
  {
   "cell_type": "markdown",
   "metadata": {},
   "source": [
    "### `md.mdp` – Pressure coupling\n",
    "- You can use md.mdp downloaded from the web server.\n",
    "- Mostly same options as other simulations.\n",
    "- Pressure coupling should be anisotropic because graphene sheet is anisotropic.\n",
    "    ```bash\n",
    "    ; pressure coupling     \n",
    "    Pcoupl                   = berendsen\n",
    "    Pcoupltype               = anisotropic\n",
    "    ; Time constant (ps), compressibility (1/bar) and reference P (bar)\n",
    "    tau-p                    = 1.0\n",
    "    compressibility          = 4.5e-5 4.5e-5 4.5e-5\n",
    "    ref-p                    = 1      1      1\n",
    "    ```"
   ]
  },
  {
   "cell_type": "markdown",
   "metadata": {},
   "source": [
    "### `md.mdp` – Electric field\n",
    "\n",
    "- We want to apply a constant electric field along the z axis such that ions move through the pore.\n",
    "- The height of the box in the z axis is 7 nm for this example (could be different for you).\n",
    "- I want to apply a potential difference of 1 V.\n",
    "- Then, the electric field will be 1 V / 7 nm = 0.142857 V/nm.\n",
    "- Add the following lines to md.mdp\n",
    "    ```bash\n",
    "    ; Electric fields\n",
    "    ; Format for electric-field-x, etc. is: four real variables:\n",
    "    ; amplitude (V/nm), frequency omega (1/ps), time for the pulse peak (ps),\n",
    "    ; and sigma (ps) width of the pulse. Omega = 0 means static field,\n",
    "    ; sigma = 0 means no pulse, leaving the field to be a cosine function.\n",
    "    electric-field-x         = 0 0 0 0\n",
    "    electric-field-y         = 0 0 0 0\n",
    "    electric-field-z         = 0.142857 0 0 0\n",
    "    ```\n"
   ]
  },
  {
   "cell_type": "markdown",
   "metadata": {},
   "source": [
    "### Perform MD\n",
    "- `gmx grompp -c conf.pdb -f md.mdp -r conf.pdb -maxwarn 40`\n",
    "- `gmx mdrun`\n",
    "- Run for about 10 ns.\n",
    "- Load the trajectory to VMD and see ions moving through the pore.\n",
    "- The rate of ion movements is the ionic current."
   ]
  },
  {
   "cell_type": "markdown",
   "metadata": {},
   "source": [
    "### Visualizing ionic flow\n",
    "\n",
    "- Ionic flows can be visualized by using the densflux application on the server.\n",
    "    - https://yoo.skku.edu/apps/application/densflux\n",
    "- We need to upload a PDB file and an XTC file that includes the trajectory under an electric field.\n",
    "- To reduce the file size, we recommend uploading an XTC file with only ions extracted.\n",
    "- Write XTC file with only ions:\n",
    "    - `gmx trjconv -f traj_comp.xtc -o tmp.xtc -pbc mol -ur compact -center -boxcenter zero -s topol.tpr` \n",
    "        - `-f`: input XTC file\n",
    "        - `-o`: output XTC file (upload this to the server).\n",
    "        - `-pbc mol -ur compact`: make graphene whole when it is broken due to PBC\n",
    "        - `-center -boxcenter zero`: center the coordinates such that the center is located at the origin (0,0,0). The analysis program assumes this.\n",
    "    - For \"Select group for centering\", choose \"Other\". This is the group for graphene.\n",
    "    - For \"Select group for output\", choose Ion. This includes both NA and CL.\n",
    "- Write PDB file with only ions:\n",
    "    - `gmx trjconv -f conf.pdb -o tmp.pdb -center -boxcenter zero -s topol.tpr`\n",
    "        - Do exactly the same as above.\n",
    "- Upload `tmp.pdb` and `tmp.xtc` as shown in Figure.\n",
    "    - You need to specify the time step in your XTC file. In the downloaded file, it is set to 10 ps.\n",
    "- After uploading is done, you need to select group that you want to analyze.\n",
    "- \"NA\" indicates sodium ions. Put \"NA\" and \"check\". Then, \"Analysis\"."
   ]
  },
  {
   "cell_type": "markdown",
   "metadata": {},
   "source": [
    "<img src=\"../img/graphene_visualize_ion.png\" width=200 />"
   ]
  },
  {
   "cell_type": "markdown",
   "metadata": {},
   "source": [
    "<img src=\"../img/graphene_densflux.png\" width=400 />"
   ]
  },
  {
   "cell_type": "markdown",
   "metadata": {},
   "source": []
  }
 ],
 "metadata": {
  "kernelspec": {
   "display_name": "analysis",
   "language": "python",
   "name": "python3"
  },
  "language_info": {
   "codemirror_mode": {
    "name": "ipython",
    "version": 3
   },
   "file_extension": ".py",
   "mimetype": "text/x-python",
   "name": "python",
   "nbconvert_exporter": "python",
   "pygments_lexer": "ipython3",
   "version": "3.10.15"
  }
 },
 "nbformat": 4,
 "nbformat_minor": 2
}
