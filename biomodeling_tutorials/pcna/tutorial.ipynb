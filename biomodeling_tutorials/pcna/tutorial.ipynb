{
 "cells": [
  {
   "cell_type": "markdown",
   "metadata": {},
   "source": [
    "# DNA-binding proteins (PCNA)"
   ]
  },
  {
   "cell_type": "markdown",
   "metadata": {},
   "source": [
    "### Intro\n",
    "- Download link: https://www.dropbox.com/scl/fo/793kcxhjhj7q7ye5sh51y/h?rlkey=1rrx9y0h1iuzc7suh2q15sfbq&dl=0\n",
    "- In PCNA folder, you can find the structure and XTC file from my simulation. "
   ]
  },
  {
   "cell_type": "markdown",
   "metadata": {},
   "source": [
    "- There are several well known DNA-binding motif proteins.\n",
    "- In those DNA-binding proteins, basic residues bind to \n",
    "- Backbone phosphates: non-specific (e.g., RNA polymerase).\n",
    "- Major grooves: motif-level, specific and relatively weaker (e.g., zinc finger, helix-turn-helix etc.).\n",
    "- Minor grooves: single residue-level, specific and relatively stronger (e.g., histone, exonuclease etc.).\n",
    "- DNA-binding proteins diffuse along DNA to find the target sites!!!"
   ]
  },
  {
   "cell_type": "markdown",
   "metadata": {},
   "source": [
    "### References\n",
    "- You, S., Lee, H. G., Kim, K. & Yoo, J. Improved Parameterization of Protein-DNA Interactions for Molecular Dynamics Simulations of PCNA Diffusion on DNA. J Chem Theory Comput 16, 4006-4013 (2020). https://doi.org/10.1021/acs.jctc.0c00241\n",
    "- Blainey, P. C. et al. Nonspecifically bound proteins spin while diffusing along DNA. Nat Struct Mol Biol 16, 1224-1229 (2009). https://doi.org/10.1038/nsmb.1716\n",
    "- Kochaniak, A. B. et al. Proliferating cell nuclear antigen uses two distinct modes to move along DNA. J Biol Chem 284, 17700-17710 (2009). https://doi.org/10.1074/jbc.M109.008706"
   ]
  },
  {
   "cell_type": "markdown",
   "metadata": {},
   "source": [
    "### Diffusion of PCNA in MD simulations\n",
    "- In Kochaniak et al., you can find the single-molecule measurements of a PCNA complex as a function of time, y(t).\n",
    "- Using y(t), we can calculate the mean-squared-displacement (MSD) curve."
   ]
  },
  {
   "cell_type": "markdown",
   "metadata": {},
   "source": [
    "### Questions\n",
    "- Questions\n",
    "    - Diffusion coefficient of the protein complex?\n",
    "    - Translational vs. rotational?\n",
    "- What is the physical nature of the protein-DNA contacts?\n",
    "    - Visual inspection\n",
    "    - Radial distribution functions?\n",
    "    - What else?"
   ]
  },
  {
   "cell_type": "markdown",
   "metadata": {},
   "source": [
    "### PCNA in MD simulations\n",
    "- Prepare a 20-bp or 21-bp dsDNA under PBC using our web server.\n",
    "    - `dna.pdb` contains the coordinates of DNA.\n",
    "- PCNA is a homotrimeric ring-shaped protein complex.\n",
    "- Download PDB: 5L7C or 6GIS.\n",
    "- Orientation of DNA in 6GIS and our DNA from the web server are different. We want to align DNA of 6GIS parallel to the z-axis.\n",
    "    - Align the principal axis of DNA to the x-axis.\n",
    "    - `gmx editconf -f 6GIS.pdb -o 6GIS_orient.pdb -princ`\n",
    "    - Rotate by 90 degree with respect to the y-axis.\n",
    "    - `gmx editconf -f 6GIS_orient.pdb -o 6GIS_orient.pdb -rotate 0 90 0`\n",
    "- Now, DNA molecules in `dna.pdb` `6GIS_orient.pdb` are parallel to the z-axis.\n",
    "- Update the box information in `dna.pdb` and `6GIS_orient.pdb` using text editor.\n",
    "    ```bash\n",
    "    CRYST1  115.000  115.000   68.000  90.00  90.00  60.00 P 1           1\n",
    "    ```\n",
    "- Put `dna.pdb` and `6GIS_orient.pdb` to the center of the box we defined.\n",
    "    - `gmx editconf -f dna.pdb -o dna_c.pdb -c`\n",
    "    - `gmx editconf -f 6GIS_orient.pdb -o 6GIS_c.pdb -c`\n",
    "- Confirm if `dna_c.pdb` and `6GIS_c.pdb` are aligned well using VMD."
   ]
  },
  {
   "cell_type": "markdown",
   "metadata": {},
   "source": [
    "- We need to convert `6GIS_c.pdb` for Gromacs using `gmx pdb2gmx`.\n",
    "    - `gmx pdb2gmx  -f 6GIS_c.pdb -ignh`\n",
    "    - But, `pdb2gmx` returns an error saying that some atoms are missing in `6GIS_c.pdb`.\n",
    "    - This problem often occurs because crystal structure don't have all atomic coordinates in many cases.\n",
    "    - There are multiple ways to fill the missing atoms: AF server (https://alphafoldserver.com), CHARMM, modeller, ..., charmm-gui.org\n",
    "- We will use alphafoldserver.com to get a whole complex structure without missing atoms or residues.\n",
    "    - Put protein sequence downloaded from RCSB sites in FASTA format.\n",
    "    - Generate a trimer structure using AF server.\n",
    "    - Load model 0 from AF to VMD.\n",
    "    - Make `6GIS_c.pdb` as a top molecule in VMD.\n",
    "    - VMD->Extensions->Analysis->RMSD caculator.\n",
    "    - Align the AF model to `6GIS_c.pdb` using the selection \"`chain A B C and name CA and resid 1 to 100`\"\n",
    "    - Save the aligned AF model structure to `AF.pdb` and copy `AF.pdb` to the server."
   ]
  },
  {
   "cell_type": "markdown",
   "metadata": {},
   "source": [
    "- Redo gmx pdb2gmx using AF.pdb as an input.\n",
    "    - `gmx pdb2gmx -f AF.pdb -o conf.pdb -ignh`\n",
    "    - `outputs`\n",
    "    - `topol.top`\n",
    "    - `conf.pdb`\n",
    "- Put DNA information to `topol.top` and `conf.pdb`\n",
    "    - In topol.top, put the following lines for DNA.\n",
    "        ```bash\n",
    "        ; Include DNA topologies\n",
    "        #include \"dna.itp\"\n",
    "        #include \"dna.pbc.itp\"\n",
    "        #include \"dna.hbonds.itp\"\n",
    "        ```\n",
    "- At the end of `conf.pdb`, append `dna.pdb`.\n",
    "- Modify CRYST1 line in `conf.pdb` to \n",
    "    ```bash\n",
    "    CRYST1  115.000  115.000   68.000  90.00  90.00  60.00 P 1           1\n",
    "    ```\n",
    "- Put the PCNA structure to an infinitely long DNA from the web server.\n",
    "- Then, follow a typical MD simulation protocol.\n",
    "- Perform the simulation for a few microseconds."
   ]
  },
  {
   "cell_type": "markdown",
   "metadata": {},
   "source": [
    "### Analysis\n",
    "\n",
    "- In the Dropbox folder (PCNA), you can find a trajectory file.\n",
    "- Try to analysis it."
   ]
  },
  {
   "cell_type": "markdown",
   "metadata": {},
   "source": []
  }
 ],
 "metadata": {
  "language_info": {
   "name": "python"
  }
 },
 "nbformat": 4,
 "nbformat_minor": 2
}
