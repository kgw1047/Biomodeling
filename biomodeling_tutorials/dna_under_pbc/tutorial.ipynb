{
 "cells": [
  {
   "cell_type": "markdown",
   "metadata": {},
   "source": [
    "# DNA\n",
    "- Prepare DNA that is infinitely long.  \n",
    "    - Use our web server: https://yoo.skku.edu/apps/application/dna  \n",
    "        - If you want to simulate a DNA of finite lengths, you can prepare the moleculetype by using `gmx pdb2gmx`.  \n",
    "        - We made the web server because no MD package can generate DNA effectively infinite under PBC.  \n",
    "    - The web server generates dsDNA of any sequence.  \n",
    "    - The length of DNA should be close to a multiple of 10.5, which is the periodicity of dsDNA.  \n",
    "        - 10, 11, 21 bp, 32 bp, 42 bp etc.  \n",
    "        - For example, try \"atagcatcatatatataaaag\"  \n",
    "- AMBER force field has two major models for DNA  \n",
    "    - BSC0  \n",
    "    - BSC1  \n",
    "    - BSC1 is newer than BSC0. But, both are still actively used.  "
   ]
  },
  {
   "cell_type": "markdown",
   "metadata": {},
   "source": [
    "<img src=\"../img/inf_dna.png\" width=200 />"
   ]
  },
  {
   "cell_type": "markdown",
   "metadata": {},
   "source": [
    "#### **Outputs from web server**\n",
    "- `amber*.ff`: force fields in Gromacs format.  \n",
    "- `conf.pdb`: Structure file of dsDNA.  \n",
    "    - Confirm the periodicity by drawing periodic images.  \n",
    "- `topol.top`: topology file ready to use.  \n",
    "- `*.mdp`: MDP files for Gromacs.  \n",
    "- Moleculetype definitions:  \n",
    "    - `dna.itp`: the essential moleculetype definition for you dsDNA.  \n",
    "    - `dna.pbc.itp`: contains the connectivity between two ends of strands.  \n",
    "    - `dna.hbonds.itp`: contains constraints between complementary pairs. Optional.  \n",
    "    - `dna.enm.itp`: contains ENM-like constraints. It can be useful during equilibration. Optional.  "
   ]
  },
  {
   "cell_type": "markdown",
   "metadata": {},
   "source": [
    "<img src=\"../img/server.png\" width=300 />"
   ]
  },
  {
   "cell_type": "markdown",
   "metadata": {},
   "source": [
    "### **Perform MD of dsDNA in solution**\n",
    "- The package is ready to run MD.  \n",
    "- See `dna.pdb` file. The CRYST definition will look like this:  \n",
    "    - `CRYST1   60.000   60.000   70.980  90.00  90.00  60.00 P 1           1`\n",
    "        - This indicates that you have a hexagonal simulation box: numbers indicates x, y, z, alpha, beta, gamma in   the crystallographer's convention.\n",
    "        - You can adjust the box size in x and y directions. But the z-dimension cannot be changed because it matches   the periodicity of dsDNA.\n",
    "- Add water molecules by using gmx solvate.  \n",
    "    - `gmx solvate -cp dna.pdb -o conf.pdb -p topol.top`\n",
    "- Then, `topol.top` file will look like this:  \n",
    "    ```bash\n",
    "    ; Include forcefield parameters\n",
    "    #include \"amber99bsc0.ff/forcefield.itp\"\n",
    "\n",
    "    ;#define POSRES\n",
    "    #include \"dna.itp\"\n",
    "    #include \"dna.pbc.itp\"\n",
    "    #include \"dna.hbonds.itp\"\n",
    "    ;#include \"posre.itp\"\n",
    "    ;#include \"dna.enm.itp\"\n",
    "\n",
    "    ; Include water topology\n",
    "    #include \"amber99bsc0.ff/tip3p.itp\"\n",
    "\n",
    "    ; Include topology for ions\n",
    "    #include \"amber99bsc0.ff/ions.itp\"\n",
    "\n",
    "    [ system ]\n",
    "    ; Name\n",
    "    loop in water\n",
    "\n",
    "    [ molecules ]\n",
    "    ; Compound        #mols\n",
    "    DNA_chain_A         1\n",
    "    SOL              7618\n",
    "    ```"
   ]
  },
  {
   "cell_type": "markdown",
   "metadata": {},
   "source": [
    "### **Add ions & minimize**\n",
    "- `gmx grompp`  \n",
    "    - `gmx grompp -f mini.mdp -c conf.pdb -maxwarn 40`  \n",
    "    - `gmx genion` take TPR file as an input.   \n",
    "- Add ions using gmx genion  \n",
    "    - `gmx genion -neutral -conc 0.15 -o conf.pdb -p topol.top`  \n",
    "        - `-neutral`: add ions such that the system becomes neutral.  \n",
    "        - `-conc`: add more ions to get 0.15 M.  \n",
    "        - See `topol.top` to confirm the changes.  \n",
    "- Minimization  \n",
    "    - `gmx grompp -f mini.mdp -c conf.pdb -maxwarn 40`  \n",
    "    - `gmx mdrun -c conf.pdb`  \n",
    "    - the minimized structure will be written to `conf.pdb`  \n",
    "- Gromacs mdrun put molecules in a rectangular box by default. If you want to see the hexagonal box, try this:  \n",
    "    - `gmx trjconv -f conf.pdb -o conf.pdb -pbc mol -ur compact`  \n",
    "- Confirm the minimized system in VMD or pymol.  "
   ]
  },
  {
   "cell_type": "markdown",
   "metadata": {},
   "source": [
    "<img src=\"../img/ion.png\" width=400 />"
   ]
  },
  {
   "cell_type": "markdown",
   "metadata": {},
   "source": [
    "### **MDRUN**\n",
    "- Copy `mini.mdp` to `grompp.mdp`\n",
    "- Modify `grompp.mdp` like this:\n",
    "    ```bash\n",
    "    ; RUN CONTROL PARAMETERS\n",
    "    integrator               = md\n",
    "    ; Start time and timestep in ps\n",
    "    tinit                    = 0\n",
    "    dt                       = 0.002\n",
    "    nsteps                   = 500000000\n",
    "\n",
    "    ; Temperature coupling  \n",
    "    tcoupl                   = v-rescale\n",
    "    print-nose-hoover-chain-variables = no\n",
    "    ; Groups to couple separately\n",
    "    tc_grps                  = system\n",
    "    ; Time constant (ps) and reference temperature (K)\n",
    "    tau_t                    = 0.5\n",
    "    ref_t                    = 300\n",
    "    ```\n",
    "    - Because we have a dsDNA along the z axis, the box size in z must be decoupled from x and y sizes. Similar to the lipid bilayer systems, this DNA system fits best with semi-isotropic box.  \n",
    "    ```bash\n",
    "    ; pressure coupling     \n",
    "    Pcoupl                   = c-rescale\n",
    "    Pcoupltype               = semi-isotropic\n",
    "    ; Time constant (ps), compressibility (1/bar) and reference P (bar)\n",
    "    tau-p                    = 1.0\n",
    "    compressibility          = 4.5e-5 4.5e-5 \n",
    "    ref-p                    = 1      1\n",
    "    ```\n",
    "\n",
    "- `gmx mdrun`  \n",
    "    - `gmx grompp -f grompp.mdp -c conf.pdb -maxwarn 40`\n",
    "    - `gmx mdrun`  "
   ]
  },
  {
   "cell_type": "markdown",
   "metadata": {},
   "source": [
    "### **Analysis**\n",
    "- Visual inspection using VMD or pymol.  \n",
    "    - Try to visualize the 3D distribution of ions using volmap in VMD.  \n",
    "- Plot the radial distribution function of NA with respect to P atoms.  \n",
    "    - In VMD  \n",
    "        - Extensions => Analysis => Radial Pair Distribution Function  \n",
    "        - Select \"name P\" and \"name NA\"  \n",
    "    - In Gromacs  \n",
    "        - `gmx rdf -f XTC_FILE`  \n",
    "- Draw the concentrations of Na and Cl ions as a function of distance from DNA.  \n",
    "    - This is called the \"counterion condensation\" around DNA.  \n",
    "    - For analysis you need to coordinates of center of mass of dsDNA and coordinates of individual ions.  \n",
    "    - `gmx traj` is a Gromacs tool that print out text format coordinates from XTC files.  \n",
    "    - Center DNA in your simulation box.  \n",
    "        - In the output XTC file from MDRUN, DNA molecules move freely. For the analysis, having dsDNA at the center of hexagonal box is convenient.  \n",
    "        - `gmx trjconv` can do it:  \n",
    "            - `gmx trjconv -f traj_comp.xtc -o center.xtc -pbc mol -ur compact -center`  \n",
    "                - Select group for centering: DNA  \n",
    "                - Select group for output: 0  \n",
    "                - `-f`: input XTC  \n",
    "                - `-o`: output XTC.  \n",
    "                - `-pbc mol -ur compact`: put water and ions in hexagonal box.  \n",
    "                - `-center`:  chosen molecules will be put at the center of box. By doing this, your trajectory will be DNA-centric.  \n",
    "            - Confirm `center.xtc` using VMD or pymol.  \n",
    "    - To print CM of dsDNA  \n",
    "        -` gmx traj -s topol.tpr -f center.xtc -ox coord_dna.xvg -com`  \n",
    "            - Choose DNA  \n",
    "            - `-ox`: Coordinates will be written to `coord_dna.xvg` file.  \n",
    "            - `-com`: With this option, center of mass coordinate will be written. Otherwise, coordinates of ALL atoms of DNA will be written.  \n",
    "    - To print coorinates of ions  \n",
    "        - `gmx traj -s topol.tpr -f center.xtc -ox coord_na.xvg`  \n",
    "            - Choose Na  \n",
    "            - Because we didn't specify -com option, coord_na.xvg will contain coordinates of all Na ions.  \n",
    "            ```bash\n",
    "                0      {x, y, z of ion 1}  {x, y, z of ion 2} ...\n",
    "                20     {x, y, z of ion 1}  {x, y, z of ion 2} ...\n",
    "                40     {x, y, z of ion 1}  {x, y, z of ion 2} ...\n",
    "                60     {x, y, z of ion 1}  {x, y, z of ion 2} ...\n",
    "                ...\n",
    "                ```\n",
    "\n",
    "    - By using `coord_dna.xvg` and `coord_na.xvg`, calculate the distance between DNA and each Na ion, using your favorite tools such as numpy, Excel, etc.  \n",
    "    - Bin the distance to draw a histogram as a function of r.  \n",
    "        - Average over entire simulation time.  \n",
    "    - Then, you will see the ion density profile similar to the theory of counterion condensation.  "
   ]
  },
  {
   "cell_type": "code",
   "execution_count": 6,
   "metadata": {},
   "outputs": [],
   "source": [
    "# Import modules\n",
    "import numpy as np\n",
    "import mdtraj as md\n",
    "import matplotlib.patches as patches"
   ]
  },
  {
   "cell_type": "markdown",
   "metadata": {},
   "source": [
    "### Loading trajectory"
   ]
  },
  {
   "cell_type": "code",
   "execution_count": 2,
   "metadata": {},
   "outputs": [
    {
     "name": "stdout",
     "output_type": "stream",
     "text": [
      "Trajectory file : center.xtc\n",
      "Topology file : conf.pdb\n",
      "Number of frames : 1001\n",
      "Number of atoms : 24030\n",
      "Number of residues : 7660\n"
     ]
    }
   ],
   "source": [
    "dir_path = \"/home/wowjason/work/projects/md_lect/dna_under_pbc\"\n",
    "traj_path = f\"{dir_path}/center.xtc\"\n",
    "topology_path = f\"{dir_path}/conf.pdb\"\n",
    "\n",
    "traj_filename = traj_path.split(\"/\")[-1]\n",
    "topology_filename = topology_path.split(\"/\")[-1]\n",
    "traj = md.load(traj_path, top=topology_path)\n",
    "print(f\"Trajectory file : {traj_filename}\\nTopology file : {topology_filename}\")\n",
    "print(f\"Number of frames : {traj.n_frames}\\nNumber of atoms : {traj.n_atoms}\\nNumber of residues : {traj.n_residues}\")"
   ]
  },
  {
   "cell_type": "markdown",
   "metadata": {},
   "source": [
    "### Extract coordinates of targets\n",
    "- Center of mass(COM) of DNA\n",
    "- Coordinates of Na ions"
   ]
  },
  {
   "cell_type": "code",
   "execution_count": 3,
   "metadata": {},
   "outputs": [
    {
     "name": "stdout",
     "output_type": "stream",
     "text": [
      "[[4.52320875 2.58985137 3.54335242]\n",
      " [4.65969776 2.69163698 3.53581051]\n",
      " [4.67785949 2.71060081 3.55451222]\n",
      " ...\n",
      " [4.70989777 2.7153088  3.52512296]\n",
      " [4.69886721 2.72600316 3.54419535]\n",
      " [4.70215877 2.71861433 3.5318446 ]]\n",
      "Center of mass(COM) of DNA loaded\n",
      "Shape of com_dna : (1001, 3)\n",
      "Coordinates of Na ions\n",
      "Number of Na ions : 62\n"
     ]
    }
   ],
   "source": [
    "com_dna = md.compute_center_of_mass(traj, select=\"chainid 0\")\n",
    "print(com_dna)\n",
    "\n",
    "na_selection = traj.topology.select(\"resname NA\")\n",
    "traj_na = traj.atom_slice(na_selection)\n",
    "coord_na = traj_na.xyz\n",
    "number_of_na = coord_na.shape[1]\n",
    "\n",
    "print(f\"Center of mass(COM) of DNA loaded\\nShape of com_dna : {com_dna.shape}\")\n",
    "print(f\"Coordinates of Na ions\\nNumber of Na ions : {number_of_na}\")"
   ]
  },
  {
   "cell_type": "markdown",
   "metadata": {},
   "source": [
    "### Counterion condensation"
   ]
  },
  {
   "cell_type": "code",
   "execution_count": 4,
   "metadata": {},
   "outputs": [
    {
     "name": "stdout",
     "output_type": "stream",
     "text": [
      "(1001, 62)\n"
     ]
    },
    {
     "data": {
      "image/png": "[encoded data removed]",
      "text/plain": [
       "<Figure size 640x480 with 1 Axes>"
      ]
     },
     "metadata": {},
     "output_type": "display_data"
    }
   ],
   "source": [
    "import matplotlib.pyplot as plt\n",
    "\n",
    "com_dna_xy = com_dna[:, :2]\n",
    "na_coord_xy = coord_na[:, :, :2]\n",
    "\n",
    "distance_xy = np.linalg.norm(com_dna_xy[:, None, :] - na_coord_xy, axis=2)\n",
    "print(distance_xy.shape)\n",
    "\n",
    "plt.figure()\n",
    "plt.hist(distance_xy.flatten(), bins=50, density=False, color=\"royalblue\")\n",
    "plt.title(\"Distance between DNA and Na ions\")\n",
    "plt.xlabel(\"Distance (nm)\")\n",
    "plt.ylabel(\"Number of points\")\n",
    "\n",
    "plt.show()\n",
    "\n",
    "# avg_distance_xy = np.mean(distance_xy, axis=0)\n",
    "\n",
    "# plt.figure()\n",
    "# plt.hist(avg_distance_xy, bins=20, density=False, color=\"mediumspringgreen\")\n",
    "# plt.title(\"Average distance between DNA and Na ions\")\n",
    "# plt.xlabel(\"Distance (nm)\")\n",
    "# plt.ylabel(\"Number of points\")\n",
    "\n",
    "# plt.show()"
   ]
  },
  {
   "cell_type": "markdown",
   "metadata": {},
   "source": [
    "### Visualize counterion condensation with 2D histogram"
   ]
  },
  {
   "cell_type": "code",
   "execution_count": 7,
   "metadata": {},
   "outputs": [
    {
     "data": {
      "image/png": "[encoded data removed]",
      "text/plain": [
       "<Figure size 700x700 with 2 Axes>"
      ]
     },
     "metadata": {},
     "output_type": "display_data"
    }
   ],
   "source": [
    "avg_com_dna = np.mean(com_dna_xy, axis=0)\n",
    "\n",
    "plt.figure(figsize=(7, 7))\n",
    "plt.hist2d(coord_na[:, :, 0].flatten(), coord_na[:, :, 1].flatten(), bins=25, cmap='magma')\n",
    "\n",
    "circle = patches.Circle(avg_com_dna, 1, color='cyan', fill=False, linewidth=4)\n",
    "plt.gca().add_patch(circle)\n",
    "cbar = plt.colorbar()\n",
    "\n",
    "plt.title(\"2D Histogram of Na ions on XY plane\")\n",
    "plt.xlabel(\"X (nm)\")\n",
    "plt.ylabel(\"Y (nm)\")\n",
    "cbar.set_label('Number of points')\n",
    "plt.axis(\"scaled\")\n",
    "\n",
    "plt.show()"
   ]
  },
  {
   "cell_type": "markdown",
   "metadata": {},
   "source": []
  }
 ],
 "metadata": {
  "kernelspec": {
   "display_name": "analysis",
   "language": "python",
   "name": "python3"
  },
  "language_info": {
   "codemirror_mode": {
    "name": "ipython",
    "version": 3
   },
   "file_extension": ".py",
   "mimetype": "text/x-python",
   "name": "python",
   "nbconvert_exporter": "python",
   "pygments_lexer": "ipython3",
   "version": "3.10.15"
  }
 },
 "nbformat": 4,
 "nbformat_minor": 2
}
